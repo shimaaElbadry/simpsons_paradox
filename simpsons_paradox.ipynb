{
 "cells": [
  {
   "cell_type": "markdown",
   "metadata": {
    "collapsed": true
   },
   "source": [
    "# Simpson's Paradox\n",
    "Use `admission_data.csv` for this exercise."
   ]
  },
  {
   "cell_type": "code",
   "execution_count": 3,
   "metadata": {},
   "outputs": [
    {
     "name": "stdout",
     "output_type": "stream",
     "text": [
      "     student_id  gender      major  admitted\n",
      "0         35377  female  Chemistry     False\n",
      "1         56105    male    Physics      True\n",
      "2         31441  female  Chemistry     False\n",
      "3         51765    male    Physics      True\n",
      "4         53714  female    Physics      True\n",
      "5         50693  female  Chemistry     False\n",
      "6         25946    male    Physics      True\n",
      "7         27648  female  Chemistry      True\n",
      "8         55247    male    Physics     False\n",
      "9         35838    male    Physics      True\n",
      "10        40586    male    Physics     False\n",
      "11        53708  female  Chemistry      True\n",
      "12        56914    male    Physics      True\n",
      "13        55248    male    Physics      True\n",
      "14        37705  female  Chemistry     False\n",
      "15        37693    male    Physics      True\n",
      "16        42150  female  Chemistry     False\n",
      "17        55079  female  Chemistry     False\n",
      "18        51048    male    Physics      True\n",
      "19        36390    male    Physics     False\n",
      "20        50973  female  Chemistry     False\n",
      "21        54260  female  Chemistry     False\n",
      "22        42508    male  Chemistry     False\n",
      "23        51218    male    Physics     False\n",
      "24        57249    male    Physics      True\n",
      "25        25386  female  Chemistry     False\n",
      "26        24504  female  Chemistry     False\n",
      "27        27555    male    Physics      True\n",
      "28        55249  female  Chemistry      True\n",
      "29        55693  female  Chemistry     False\n",
      "..          ...     ...        ...       ...\n",
      "470       37902    male    Physics     False\n",
      "471       50827  female  Chemistry     False\n",
      "472       55498  female  Chemistry      True\n",
      "473       36752    male    Physics     False\n",
      "474       34940  female    Physics      True\n",
      "475       38762  female    Physics      True\n",
      "476       45715  female  Chemistry      True\n",
      "477       34307  female  Chemistry     False\n",
      "478       25937    male    Physics      True\n",
      "479       29922  female  Chemistry     False\n",
      "480       56173    male    Physics     False\n",
      "481       32569    male    Physics     False\n",
      "482       47309  female  Chemistry     False\n",
      "483       45900    male    Physics      True\n",
      "484       25710    male    Physics      True\n",
      "485       50503    male    Physics     False\n",
      "486       43104    male    Physics      True\n",
      "487       43775  female  Chemistry     False\n",
      "488       33713  female  Chemistry      True\n",
      "489       56171    male    Physics     False\n",
      "490       29553  female    Physics     False\n",
      "491       25641    male    Physics     False\n",
      "492       26737  female  Chemistry     False\n",
      "493       56006  female    Physics      True\n",
      "494       30192  female  Chemistry      True\n",
      "495       26950    male    Physics     False\n",
      "496       25775  female  Chemistry      True\n",
      "497       47243  female  Chemistry      True\n",
      "498       52067    male    Physics      True\n",
      "499       50535    male    Physics     False\n",
      "\n",
      "[500 rows x 4 columns]\n"
     ]
    }
   ],
   "source": [
    "# Load and view first few lines of dataset\n",
    "import pandas as pd\n",
    "df = pd.read_csv ('admission_data.csv')\n",
    "print (df)\n",
    "print (len(df[df['gender']=='female']))\n",
    "print (df.shape[0])\n"
   ]
  },
  {
   "cell_type": "markdown",
   "metadata": {},
   "source": [
    "### Proportion and admission rate for each gender"
   ]
  },
  {
   "cell_type": "code",
   "execution_count": 12,
   "metadata": {},
   "outputs": [
    {
     "data": {
      "text/plain": [
       "0.514"
      ]
     },
     "execution_count": 12,
     "metadata": {},
     "output_type": "execute_result"
    }
   ],
   "source": [
    "# Proportion of students that are female\n",
    "(len(df[df['gender']=='female']))/df.shape[0]\n"
   ]
  },
  {
   "cell_type": "code",
   "execution_count": 13,
   "metadata": {},
   "outputs": [
    {
     "data": {
      "text/plain": [
       "0.486"
      ]
     },
     "execution_count": 13,
     "metadata": {},
     "output_type": "execute_result"
    }
   ],
   "source": [
    "# Proportion of students that are male\n",
    "(len(df[df['gender']=='male']))/df.shape[0]\n"
   ]
  },
  {
   "cell_type": "code",
   "execution_count": 14,
   "metadata": {},
   "outputs": [
    {
     "data": {
      "text/plain": [
       "0.28793774319066145"
      ]
     },
     "execution_count": 14,
     "metadata": {},
     "output_type": "execute_result"
    }
   ],
   "source": [
    "# Admission rate for females\n",
    "len(df[(df['gender']=='female') & (df['admitted'])])/(len(df[df['gender']=='female']))"
   ]
  },
  {
   "cell_type": "code",
   "execution_count": 15,
   "metadata": {},
   "outputs": [
    {
     "data": {
      "text/plain": [
       "0.48559670781893005"
      ]
     },
     "execution_count": 15,
     "metadata": {},
     "output_type": "execute_result"
    }
   ],
   "source": [
    "# Admission rate for males\n",
    "len(df[(df['gender']=='male') & (df['admitted'])])/(len(df[df['gender']=='male']))\n"
   ]
  },
  {
   "cell_type": "markdown",
   "metadata": {},
   "source": [
    "### Proportion and admission rate for physics majors of each gender"
   ]
  },
  {
   "cell_type": "code",
   "execution_count": 19,
   "metadata": {},
   "outputs": [
    {
     "name": "stdout",
     "output_type": "stream",
     "text": [
      "student_id    0.120623\n",
      "gender        0.120623\n",
      "major         0.120623\n",
      "admitted      0.120623\n",
      "dtype: float64\n"
     ]
    }
   ],
   "source": [
    "# What proportion of female students are majoring in physics?\n",
    "fem_phys_rate = df.query(\"gender == 'female' & major == 'Physics'\").count()/(df.query(\"gender == 'female'\").count())\n",
    "print (fem_phys_rate)"
   ]
  },
  {
   "cell_type": "code",
   "execution_count": 20,
   "metadata": {},
   "outputs": [
    {
     "name": "stdout",
     "output_type": "stream",
     "text": [
      "student_id    0.925926\n",
      "gender        0.925926\n",
      "major         0.925926\n",
      "admitted      0.925926\n",
      "dtype: float64\n"
     ]
    }
   ],
   "source": [
    "# What proportion of male students are majoring in physics?\n",
    "fem_phys_rate = df.query(\"gender == 'male' & major == 'Physics'\").count()/(df.query(\"gender == 'male'\").count())\n",
    "print (fem_phys_rate)\n"
   ]
  },
  {
   "cell_type": "code",
   "execution_count": 21,
   "metadata": {},
   "outputs": [
    {
     "data": {
      "text/plain": [
       "0.7419354838709677"
      ]
     },
     "execution_count": 21,
     "metadata": {},
     "output_type": "execute_result"
    }
   ],
   "source": [
    "# Admission rate for female physics majors\n",
    "len(df[(df[\"gender\"]=='female') & (df[\"major\"] == 'Physics') & df[\"admitted\"]]) / len(df[(df[\"gender\"]=='female') & (df[\"major\"] == 'Physics')])"
   ]
  },
  {
   "cell_type": "code",
   "execution_count": null,
   "metadata": {
    "collapsed": true
   },
   "outputs": [],
   "source": [
    "# Admission rate for male physics majors\n",
    "len(df[(df[\"gender\"]=='male') & (df[\"major\"] == 'Physics') & df[\"admitted\"]]) / len(df[(df[\"gender\"]=='male') & (df[\"major\"] == 'Physics')])"
   ]
  },
  {
   "cell_type": "markdown",
   "metadata": {},
   "source": [
    "### Proportion and admission rate for chemistry majors of each gender"
   ]
  },
  {
   "cell_type": "code",
   "execution_count": null,
   "metadata": {
    "collapsed": true
   },
   "outputs": [],
   "source": [
    "# What proportion of female students are majoring in chemistry?\n",
    "len(df[(df['gender']=='female') & (df['major'] == 'Chemistry')]) / len(df[df['gender']=='female'])\n"
   ]
  },
  {
   "cell_type": "code",
   "execution_count": 22,
   "metadata": {},
   "outputs": [
    {
     "data": {
      "text/plain": [
       "0.07407407407407407"
      ]
     },
     "execution_count": 22,
     "metadata": {},
     "output_type": "execute_result"
    }
   ],
   "source": [
    "# What proportion of male students are majoring in chemistry?\n",
    "len(df[(df['gender']=='male') & (df['major'] == 'Chemistry')]) / len(df[df['gender']=='male'])"
   ]
  },
  {
   "cell_type": "code",
   "execution_count": 23,
   "metadata": {},
   "outputs": [
    {
     "data": {
      "text/plain": [
       "0.22566371681415928"
      ]
     },
     "execution_count": 23,
     "metadata": {},
     "output_type": "execute_result"
    }
   ],
   "source": [
    "# Admission rate for female chemistry majors\n",
    "len(df[(df['gender']=='female') & (df['major'] == 'Chemistry') & df['admitted']]) / len(df[(df['gender']=='female') & (df['major'] == 'Chemistry')])"
   ]
  },
  {
   "cell_type": "code",
   "execution_count": null,
   "metadata": {
    "collapsed": true
   },
   "outputs": [],
   "source": [
    "# Admission rate for male chemistry majors\n",
    "len(df[(df['gender']=='male') & (df['major'] == 'Chemistry') & df['admitted']]) / len(df[(df['gender']=='male') & (df['major'] == 'Chemistry')])\n"
   ]
  },
  {
   "cell_type": "markdown",
   "metadata": {},
   "source": [
    "### Admission rate for each major"
   ]
  },
  {
   "cell_type": "code",
   "execution_count": null,
   "metadata": {
    "collapsed": true
   },
   "outputs": [],
   "source": [
    "# Admission rate for physics majors\n",
    "len(df[(df['major'] == 'Physics') & df['admitted']]) / len(df[(df['major'] == 'Physics')])"
   ]
  },
  {
   "cell_type": "code",
   "execution_count": null,
   "metadata": {
    "collapsed": true
   },
   "outputs": [],
   "source": [
    "# Admission rate for chemistry majors\n",
    "\n",
    "len(df[(df['major'] == 'Chemistry') & df['admitted']]) / len(df[(df['major'] == 'Chemistry')])\n"
   ]
  }
 ],
 "metadata": {
  "kernelspec": {
   "display_name": "Python 3",
   "language": "python",
   "name": "python3"
  },
  "language_info": {
   "codemirror_mode": {
    "name": "ipython",
    "version": 3
   },
   "file_extension": ".py",
   "mimetype": "text/x-python",
   "name": "python",
   "nbconvert_exporter": "python",
   "pygments_lexer": "ipython3",
   "version": "3.6.3"
  }
 },
 "nbformat": 4,
 "nbformat_minor": 2
}
